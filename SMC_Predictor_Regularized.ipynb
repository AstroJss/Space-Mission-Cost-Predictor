{
 "cells": [
  {
   "cell_type": "code",
   "execution_count": 38,
   "id": "9b515d59-8492-47d3-ba14-77875cb526be",
   "metadata": {},
   "outputs": [],
   "source": [
    "import pandas as pd\n",
    "import numpy as np\n",
    "import matplotlib.pyplot as plt\n",
    "import seaborn as sns\n",
    "from sklearn.preprocessing import StandardScaler\n",
    "from sklearn.model_selection import train_test_split\n",
    "from sklearn.tree import DecisionTreeRegressor\n",
    "from sklearn.metrics import mean_squared_error\n",
    "from sklearn.ensemble import RandomForestRegressor\n",
    "from sklearn.metrics import r2_score, mean_absolute_percentage_error\n",
    "from sklearn.linear_model import Ridge\n",
    "from sklearn.linear_model import RidgeCV"
   ]
  },
  {
   "cell_type": "code",
   "execution_count": 39,
   "id": "57cba36e-27b8-4436-9a96-a35f9de9e827",
   "metadata": {},
   "outputs": [],
   "source": [
    "missions = pd.read_csv(\"space_missions_dataset.csv\")"
   ]
  },
  {
   "cell_type": "code",
   "execution_count": 40,
   "id": "9003e551-34fb-4ce2-b206-355315363903",
   "metadata": {},
   "outputs": [
    {
     "name": "stdout",
     "output_type": "stream",
     "text": [
      "<class 'pandas.core.frame.DataFrame'>\n",
      "RangeIndex: 500 entries, 0 to 499\n",
      "Data columns (total 15 columns):\n",
      " #   Column                             Non-Null Count  Dtype  \n",
      "---  ------                             --------------  -----  \n",
      " 0   Mission ID                         500 non-null    object \n",
      " 1   Mission Name                       500 non-null    object \n",
      " 2   Launch Date                        500 non-null    object \n",
      " 3   Target Type                        500 non-null    object \n",
      " 4   Target Name                        500 non-null    object \n",
      " 5   Mission Type                       500 non-null    object \n",
      " 6   Distance from Earth (light-years)  500 non-null    float64\n",
      " 7   Mission Duration (years)           500 non-null    float64\n",
      " 8   Mission Cost (billion USD)         500 non-null    float64\n",
      " 9   Scientific Yield (points)          500 non-null    float64\n",
      " 10  Crew Size                          500 non-null    int64  \n",
      " 11  Mission Success (%)                500 non-null    float64\n",
      " 12  Fuel Consumption (tons)            500 non-null    float64\n",
      " 13  Payload Weight (tons)              500 non-null    float64\n",
      " 14  Launch Vehicle                     500 non-null    object \n",
      "dtypes: float64(7), int64(1), object(7)\n",
      "memory usage: 58.7+ KB\n"
     ]
    }
   ],
   "source": [
    "missions.info()"
   ]
  },
  {
   "cell_type": "code",
   "execution_count": 41,
   "id": "4ff637be-e216-400f-8646-8c7800e04dee",
   "metadata": {},
   "outputs": [],
   "source": [
    "# Feature Editing and Preprocessing\n",
    "missions['Target_Type_Code'] = missions['Target Type'].astype('category').cat.codes\n",
    "missions['Mission_Type_Code'] = missions['Mission Type'].astype('category').cat.codes\n",
    "missions['Launch_Vehicle_Code'] = missions['Launch Vehicle'].astype('category').cat.codes\n",
    "missions['Target_Name_Code'] = missions['Target Name'].astype('category').cat.codes\n",
    "missions['Mission_ID_Code'] = missions['Mission ID'].str.replace('MSN-', '', regex=True).astype(int)\n",
    "missions['Launch Year'] = pd.to_datetime(missions['Launch Date']).dt.year"
   ]
  },
  {
   "cell_type": "code",
   "execution_count": 42,
   "id": "9f973716-2634-43e2-94a5-077a143d3be5",
   "metadata": {},
   "outputs": [
    {
     "data": {
      "text/plain": [
       "Target Name\n",
       "Proxima b     81\n",
       "Mars          73\n",
       "Io            72\n",
       "Europa        70\n",
       "Titan         70\n",
       "Betelgeuse    67\n",
       "Ceres         67\n",
       "Name: count, dtype: int64"
      ]
     },
     "execution_count": 42,
     "metadata": {},
     "output_type": "execute_result"
    }
   ],
   "source": [
    "missions['Target Name'].value_counts()"
   ]
  },
  {
   "cell_type": "code",
   "execution_count": 43,
   "id": "27617df0-3381-4e70-90b0-0119fb51c67d",
   "metadata": {},
   "outputs": [],
   "source": [
    "# Feature Engineering:\n",
    "missions['Time Efficiency'] = missions['Scientific Yield (points)'] / (missions['Mission Duration (years)'] + 1e-5)\n",
    "missions['Energy Demand'] = missions['Payload Weight (tons)'] * missions['Distance from Earth (light-years)']\n",
    "missions['Target Distance'] = missions['Target_Name_Code'] * missions['Distance from Earth (light-years)']"
   ]
  },
  {
   "cell_type": "code",
   "execution_count": 44,
   "id": "92f231e6-ea35-44d0-8947-8b13e2691fff",
   "metadata": {},
   "outputs": [
    {
     "data": {
      "text/html": [
       "<div>\n",
       "<style scoped>\n",
       "    .dataframe tbody tr th:only-of-type {\n",
       "        vertical-align: middle;\n",
       "    }\n",
       "\n",
       "    .dataframe tbody tr th {\n",
       "        vertical-align: top;\n",
       "    }\n",
       "\n",
       "    .dataframe thead th {\n",
       "        text-align: right;\n",
       "    }\n",
       "</style>\n",
       "<table border=\"1\" class=\"dataframe\">\n",
       "  <thead>\n",
       "    <tr style=\"text-align: right;\">\n",
       "      <th></th>\n",
       "      <th>Mission ID</th>\n",
       "      <th>Mission Name</th>\n",
       "      <th>Launch Date</th>\n",
       "      <th>Target Type</th>\n",
       "      <th>Target Name</th>\n",
       "      <th>Mission Type</th>\n",
       "      <th>Distance from Earth (light-years)</th>\n",
       "      <th>Mission Duration (years)</th>\n",
       "      <th>Mission Cost (billion USD)</th>\n",
       "      <th>Scientific Yield (points)</th>\n",
       "      <th>...</th>\n",
       "      <th>Launch Vehicle</th>\n",
       "      <th>Target_Type_Code</th>\n",
       "      <th>Mission_Type_Code</th>\n",
       "      <th>Launch_Vehicle_Code</th>\n",
       "      <th>Target_Name_Code</th>\n",
       "      <th>Mission_ID_Code</th>\n",
       "      <th>Launch Year</th>\n",
       "      <th>Time Efficiency</th>\n",
       "      <th>Energy Demand</th>\n",
       "      <th>Target Distance</th>\n",
       "    </tr>\n",
       "  </thead>\n",
       "  <tbody>\n",
       "    <tr>\n",
       "      <th>0</th>\n",
       "      <td>MSN-0001</td>\n",
       "      <td>Mission-1</td>\n",
       "      <td>2025-01-01</td>\n",
       "      <td>Star</td>\n",
       "      <td>Titan</td>\n",
       "      <td>Colonization</td>\n",
       "      <td>7.05</td>\n",
       "      <td>5.2</td>\n",
       "      <td>526.68</td>\n",
       "      <td>64.3</td>\n",
       "      <td>...</td>\n",
       "      <td>SLS</td>\n",
       "      <td>4</td>\n",
       "      <td>0</td>\n",
       "      <td>2</td>\n",
       "      <td>6</td>\n",
       "      <td>1</td>\n",
       "      <td>2025</td>\n",
       "      <td>12.365361</td>\n",
       "      <td>703.4490</td>\n",
       "      <td>42.30</td>\n",
       "    </tr>\n",
       "    <tr>\n",
       "      <th>1</th>\n",
       "      <td>MSN-0002</td>\n",
       "      <td>Mission-2</td>\n",
       "      <td>2025-01-08</td>\n",
       "      <td>Exoplanet</td>\n",
       "      <td>Betelgeuse</td>\n",
       "      <td>Colonization</td>\n",
       "      <td>41.76</td>\n",
       "      <td>23.0</td>\n",
       "      <td>234.08</td>\n",
       "      <td>84.4</td>\n",
       "      <td>...</td>\n",
       "      <td>Starship</td>\n",
       "      <td>1</td>\n",
       "      <td>0</td>\n",
       "      <td>3</td>\n",
       "      <td>0</td>\n",
       "      <td>2</td>\n",
       "      <td>2025</td>\n",
       "      <td>3.669564</td>\n",
       "      <td>1909.2672</td>\n",
       "      <td>0.00</td>\n",
       "    </tr>\n",
       "    <tr>\n",
       "      <th>2</th>\n",
       "      <td>MSN-0003</td>\n",
       "      <td>Mission-3</td>\n",
       "      <td>2025-01-15</td>\n",
       "      <td>Asteroid</td>\n",
       "      <td>Mars</td>\n",
       "      <td>Exploration</td>\n",
       "      <td>49.22</td>\n",
       "      <td>28.8</td>\n",
       "      <td>218.68</td>\n",
       "      <td>98.6</td>\n",
       "      <td>...</td>\n",
       "      <td>Starship</td>\n",
       "      <td>0</td>\n",
       "      <td>1</td>\n",
       "      <td>3</td>\n",
       "      <td>4</td>\n",
       "      <td>3</td>\n",
       "      <td>2025</td>\n",
       "      <td>3.423610</td>\n",
       "      <td>1777.8264</td>\n",
       "      <td>196.88</td>\n",
       "    </tr>\n",
       "    <tr>\n",
       "      <th>3</th>\n",
       "      <td>MSN-0004</td>\n",
       "      <td>Mission-4</td>\n",
       "      <td>2025-01-22</td>\n",
       "      <td>Exoplanet</td>\n",
       "      <td>Titan</td>\n",
       "      <td>Colonization</td>\n",
       "      <td>26.33</td>\n",
       "      <td>17.8</td>\n",
       "      <td>232.89</td>\n",
       "      <td>36.0</td>\n",
       "      <td>...</td>\n",
       "      <td>Starship</td>\n",
       "      <td>1</td>\n",
       "      <td>0</td>\n",
       "      <td>3</td>\n",
       "      <td>6</td>\n",
       "      <td>4</td>\n",
       "      <td>2025</td>\n",
       "      <td>2.022471</td>\n",
       "      <td>1070.8411</td>\n",
       "      <td>157.98</td>\n",
       "    </tr>\n",
       "    <tr>\n",
       "      <th>4</th>\n",
       "      <td>MSN-0005</td>\n",
       "      <td>Mission-5</td>\n",
       "      <td>2025-01-29</td>\n",
       "      <td>Exoplanet</td>\n",
       "      <td>Proxima b</td>\n",
       "      <td>Mining</td>\n",
       "      <td>8.67</td>\n",
       "      <td>9.2</td>\n",
       "      <td>72.14</td>\n",
       "      <td>96.5</td>\n",
       "      <td>...</td>\n",
       "      <td>Starship</td>\n",
       "      <td>1</td>\n",
       "      <td>2</td>\n",
       "      <td>3</td>\n",
       "      <td>5</td>\n",
       "      <td>5</td>\n",
       "      <td>2025</td>\n",
       "      <td>10.489119</td>\n",
       "      <td>107.5080</td>\n",
       "      <td>43.35</td>\n",
       "    </tr>\n",
       "  </tbody>\n",
       "</table>\n",
       "<p>5 rows × 24 columns</p>\n",
       "</div>"
      ],
      "text/plain": [
       "  Mission ID Mission Name Launch Date Target Type Target Name  Mission Type  \\\n",
       "0   MSN-0001    Mission-1  2025-01-01        Star       Titan  Colonization   \n",
       "1   MSN-0002    Mission-2  2025-01-08   Exoplanet  Betelgeuse  Colonization   \n",
       "2   MSN-0003    Mission-3  2025-01-15    Asteroid        Mars   Exploration   \n",
       "3   MSN-0004    Mission-4  2025-01-22   Exoplanet       Titan  Colonization   \n",
       "4   MSN-0005    Mission-5  2025-01-29   Exoplanet   Proxima b        Mining   \n",
       "\n",
       "   Distance from Earth (light-years)  Mission Duration (years)  \\\n",
       "0                               7.05                       5.2   \n",
       "1                              41.76                      23.0   \n",
       "2                              49.22                      28.8   \n",
       "3                              26.33                      17.8   \n",
       "4                               8.67                       9.2   \n",
       "\n",
       "   Mission Cost (billion USD)  Scientific Yield (points)  ...  Launch Vehicle  \\\n",
       "0                      526.68                       64.3  ...             SLS   \n",
       "1                      234.08                       84.4  ...        Starship   \n",
       "2                      218.68                       98.6  ...        Starship   \n",
       "3                      232.89                       36.0  ...        Starship   \n",
       "4                       72.14                       96.5  ...        Starship   \n",
       "\n",
       "   Target_Type_Code  Mission_Type_Code  Launch_Vehicle_Code Target_Name_Code  \\\n",
       "0                 4                  0                    2                6   \n",
       "1                 1                  0                    3                0   \n",
       "2                 0                  1                    3                4   \n",
       "3                 1                  0                    3                6   \n",
       "4                 1                  2                    3                5   \n",
       "\n",
       "   Mission_ID_Code  Launch Year  Time Efficiency  Energy Demand  \\\n",
       "0                1         2025        12.365361       703.4490   \n",
       "1                2         2025         3.669564      1909.2672   \n",
       "2                3         2025         3.423610      1777.8264   \n",
       "3                4         2025         2.022471      1070.8411   \n",
       "4                5         2025        10.489119       107.5080   \n",
       "\n",
       "   Target Distance  \n",
       "0            42.30  \n",
       "1             0.00  \n",
       "2           196.88  \n",
       "3           157.98  \n",
       "4            43.35  \n",
       "\n",
       "[5 rows x 24 columns]"
      ]
     },
     "execution_count": 44,
     "metadata": {},
     "output_type": "execute_result"
    }
   ],
   "source": [
    "missions.head()"
   ]
  },
  {
   "cell_type": "code",
   "execution_count": 45,
   "id": "b1e04fa2-18f7-46c3-afae-d623b261122f",
   "metadata": {},
   "outputs": [],
   "source": [
    "features = ['Target Distance', 'Payload Weight (tons)', 'Time Efficiency', 'Energy Demand', 'Distance from Earth (light-years)', 'Mission Duration (years)', 'Scientific Yield (points)', 'Target_Type_Code', 'Mission_Type_Code', 'Launch_Vehicle_Code', 'Target_Name_Code', 'Mission_ID_Code', 'Launch Year', 'Crew Size', 'Fuel Consumption (tons)', ]\n",
    "target = 'Mission Cost (billion USD)'\n",
    "missions[features] = StandardScaler().fit_transform(missions[features])"
   ]
  },
  {
   "cell_type": "code",
   "execution_count": 46,
   "id": "e61b3935-24fd-43f8-9431-3cc7161f9f5d",
   "metadata": {},
   "outputs": [],
   "source": [
    "X = missions[features]\n",
    "y = missions[target]"
   ]
  },
  {
   "cell_type": "code",
   "execution_count": 47,
   "id": "9754caca-0e5a-4eb3-a672-660c631aa515",
   "metadata": {},
   "outputs": [],
   "source": [
    "X_train, X_test, y_train, y_test = train_test_split(X, y, test_size = 0.2, random_state = 42)"
   ]
  },
  {
   "cell_type": "code",
   "execution_count": 48,
   "id": "665cca9b-af4c-4bbe-9865-50b442db5e12",
   "metadata": {},
   "outputs": [
    {
     "name": "stdout",
     "output_type": "stream",
     "text": [
      "Decision Tree RMSE: 22.365435139965424\n"
     ]
    }
   ],
   "source": [
    "tree = DecisionTreeRegressor(random_state = 42)\n",
    "tree.fit(X_train, y_train)\n",
    "\n",
    "y_pred_tree = tree.predict(X_test)\n",
    "mse = mean_squared_error(y_test, y_pred_tree)\n",
    "rmse = np.sqrt(mse)\n",
    "print(\"Decision Tree RMSE:\", rmse)"
   ]
  },
  {
   "cell_type": "code",
   "execution_count": 49,
   "id": "771c8ad7-67ff-4c3a-9dc9-df2a7ff14884",
   "metadata": {},
   "outputs": [
    {
     "name": "stdout",
     "output_type": "stream",
     "text": [
      "Forest Regressor RMSE: 16.37028087585317\n"
     ]
    }
   ],
   "source": [
    "forest = RandomForestRegressor(n_estimators = 200, random_state=42)\n",
    "forest.fit(X_train, y_train)\n",
    "\n",
    "y_pred_forest = forest.predict(X_test)\n",
    "mse = mean_squared_error(y_test, y_pred_forest)\n",
    "rmse = np.sqrt(mse)\n",
    "print(\"Forest Regressor RMSE:\", rmse)"
   ]
  },
  {
   "cell_type": "code",
   "execution_count": 54,
   "id": "859d030e-a6e7-481d-9c96-002fdb787179",
   "metadata": {},
   "outputs": [
    {
     "name": "stdout",
     "output_type": "stream",
     "text": [
      "R² Score: 98.85203523685603 %\n",
      "MAPE: 11.35006807445634 %\n"
     ]
    }
   ],
   "source": [
    "print(\"R² Score:\", r2_score(y_test, y_pred_forest) * 100, \"%\")\n",
    "print(\"MAPE:\", mean_absolute_percentage_error(y_test, y_pred_forest) * 100, \"%\")"
   ]
  },
  {
   "cell_type": "code",
   "execution_count": 51,
   "id": "2fbdba0c-39c0-4e73-bd26-9dd28761c645",
   "metadata": {},
   "outputs": [
    {
     "data": {
      "image/png": "[encoded data removed]",
      "text/plain": [
       "<Figure size 1000x600 with 1 Axes>"
      ]
     },
     "metadata": {},
     "output_type": "display_data"
    }
   ],
   "source": [
    "importances = forest.feature_importances_\n",
    "feature_names = X.columns\n",
    "\n",
    "# Sort by importance\n",
    "indices = np.argsort(importances)[::-1]\n",
    "\n",
    "# Plot the graph\n",
    "plt.figure(figsize=(10, 6))\n",
    "plt.barh(range(len(importances)), importances[indices])\n",
    "plt.yticks(range(len(importances)), [feature_names[i] for i in indices])\n",
    "plt.xlabel('Importance')\n",
    "plt.title('Feature Importances in Random Forest Regressor')\n",
    "plt.gca().invert_yaxis()  # Most important at the top\n",
    "plt.tight_layout()\n",
    "plt.show()"
   ]
  },
  {
   "cell_type": "markdown",
   "id": "af539d62-0be7-453f-9d35-2980c0213475",
   "metadata": {},
   "source": [
    "## BarPlot Analysis:\n",
    "\n",
    "As predicted previously based on the PairPlot and HeatMap, \"Payload Weight\" indeed is a very dominant feature after fitting, transforming, training and testing the model. This is not very good as it can lead to overfitting and the model becomes entirely dependent on it, essentially turning into a one-veriable function. A tiny noise in this feature could lead to wrong predictions. \n",
    "\n",
    "At this point, \"Payload Weight\" becomes a necessary evil as it is an essential factor for determining the cost of a space-ship. Hence, we will check its correlation with the target and try to reduce its influence using Lasso and Ridge Regression and analyzing the bias and variance."
   ]
  },
  {
   "cell_type": "code",
   "execution_count": 52,
   "id": "df348e9d-9dc8-4bf1-b06d-52316253857c",
   "metadata": {},
   "outputs": [
    {
     "data": {
      "text/html": [
       "<div>\n",
       "<style scoped>\n",
       "    .dataframe tbody tr th:only-of-type {\n",
       "        vertical-align: middle;\n",
       "    }\n",
       "\n",
       "    .dataframe tbody tr th {\n",
       "        vertical-align: top;\n",
       "    }\n",
       "\n",
       "    .dataframe thead th {\n",
       "        text-align: right;\n",
       "    }\n",
       "</style>\n",
       "<table border=\"1\" class=\"dataframe\">\n",
       "  <thead>\n",
       "    <tr style=\"text-align: right;\">\n",
       "      <th></th>\n",
       "      <th>Payload Weight (tons)</th>\n",
       "      <th>Mission Cost (billion USD)</th>\n",
       "    </tr>\n",
       "  </thead>\n",
       "  <tbody>\n",
       "    <tr>\n",
       "      <th>Payload Weight (tons)</th>\n",
       "      <td>1.000000</td>\n",
       "      <td>0.994838</td>\n",
       "    </tr>\n",
       "    <tr>\n",
       "      <th>Mission Cost (billion USD)</th>\n",
       "      <td>0.994838</td>\n",
       "      <td>1.000000</td>\n",
       "    </tr>\n",
       "  </tbody>\n",
       "</table>\n",
       "</div>"
      ],
      "text/plain": [
       "                            Payload Weight (tons)  Mission Cost (billion USD)\n",
       "Payload Weight (tons)                    1.000000                    0.994838\n",
       "Mission Cost (billion USD)               0.994838                    1.000000"
      ]
     },
     "execution_count": 52,
     "metadata": {},
     "output_type": "execute_result"
    }
   ],
   "source": [
    "# Dominant Feature Correlation\n",
    "missions[['Payload Weight (tons)', 'Mission Cost (billion USD)']].corr()"
   ]
  },
  {
   "cell_type": "code",
   "execution_count": 55,
   "id": "dbf9cfcf-b3b3-45f0-9ab1-c5ef3cebf5f2",
   "metadata": {},
   "outputs": [
    {
     "name": "stdout",
     "output_type": "stream",
     "text": [
      "Best alpha: 1.0\n",
      "R2 Score:  0.9460699594463589\n",
      "Ridge Coefficients:  [ 0.48524856 92.10991655 -0.2699517  35.70620533 -7.74883475 -7.23976563\n",
      "  0.51991407 -2.16655617  0.64285994  1.43310891 -2.50020708  0.77751764\n",
      "  1.5140909   0.35568528 -7.72541337]\n",
      "RMSE:  35.481929251494854\n"
     ]
    }
   ],
   "source": [
    "ridge_cv = RidgeCV(alphas=[0.1, 1, 10, 100, 500, 1000])\n",
    "ridge_cv.fit(X_train, y_train)\n",
    "print(\"Best alpha:\", ridge_cv.alpha_)\n",
    "\n",
    "ridge = Ridge(alpha = 100)\n",
    "ridge.fit(X_train, y_train)\n",
    "y_pred_ridge = ridge.predict(X_test)\n",
    "\n",
    "print(\"R2 Score: \", r2_score(y_test, y_pred_ridge))\n",
    "print(\"Ridge Coefficients: \", ridge.coef_)\n",
    "print(\"RMSE: \", np.sqrt(mean_squared_error(y_test, y_pred_ridge)))"
   ]
  },
  {
   "cell_type": "markdown",
   "id": "01eaa70a-ff4c-44a9-ab91-643596cac90b",
   "metadata": {},
   "source": [
    "## Final Analysis:\n",
    "\n",
    "Even after performing Ridge Regression and finding the best alpha parameter for Ridge, the feature's coefficient remains dominating (close to 100) with the model having an R2 score of ~94% which seems reasonable now as the model is not overly dependent on just one single feature. "
   ]
  },
  {
   "cell_type": "code",
   "execution_count": null,
   "id": "d74dbfbf-b9c1-4d2a-acba-7e43562de1bc",
   "metadata": {},
   "outputs": [],
   "source": []
  }
 ],
 "metadata": {
  "kernelspec": {
   "display_name": "Python 3 (ipykernel)",
   "language": "python",
   "name": "python3"
  },
  "language_info": {
   "codemirror_mode": {
    "name": "ipython",
    "version": 3
   },
   "file_extension": ".py",
   "mimetype": "text/x-python",
   "name": "python",
   "nbconvert_exporter": "python",
   "pygments_lexer": "ipython3",
   "version": "3.13.3"
  }
 },
 "nbformat": 4,
 "nbformat_minor": 5
}
